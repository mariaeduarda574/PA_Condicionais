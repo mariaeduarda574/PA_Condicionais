{
  "nbformat": 4,
  "nbformat_minor": 0,
  "metadata": {
    "colab": {
      "provenance": [],
      "authorship_tag": "ABX9TyNBZr0njq7YIomp+qoc00Z5",
      "include_colab_link": true
    },
    "kernelspec": {
      "name": "python3",
      "display_name": "Python 3"
    },
    "language_info": {
      "name": "python"
    }
  },
  "cells": [
    {
      "cell_type": "markdown",
      "metadata": {
        "id": "view-in-github",
        "colab_type": "text"
      },
      "source": [
        "<a href=\"https://colab.research.google.com/github/mariaeduarda574/PA_Condicionais/blob/main/exercicios_prova.ipynb\" target=\"_parent\"><img src=\"https://colab.research.google.com/assets/colab-badge.svg\" alt=\"Open In Colab\"/></a>"
      ]
    },
    {
      "cell_type": "markdown",
      "source": [
        "1)\tDetector de Fases da Lua (Situação hipotética)\n",
        "\n",
        "Faça um programa que pergunte o dia do mês (1 a 31) Não aceite valores fora desse intervalo.\n",
        "\n",
        "Baseado no dia, informe a provável fase da lua:\n",
        "\n",
        "•  Dia 1 a 7: Lua Nova\n",
        "\n",
        "•  Dia 8 a 14: Quarto Crescente\n",
        "\n",
        "•  Dia 15 a 21: Lua Cheia\n",
        "\n",
        "•  Dia 22 a 29: Quarto Minguante\n",
        "\n",
        "•  Dia 30 ou mais: Início de novo ciclo lunar\n"
      ],
      "metadata": {
        "id": "KsYB-68NDvxS"
      }
    },
    {
      "cell_type": "code",
      "execution_count": 39,
      "metadata": {
        "colab": {
          "base_uri": "https://localhost:8080/"
        },
        "id": "_qDY2snlDrAU",
        "outputId": "de53c019-9c47-4fe3-891e-e45e90c1a8c3"
      },
      "outputs": [
        {
          "output_type": "stream",
          "name": "stdout",
          "text": [
            "Qual o dia do mês: 55\n",
            "Data inválida\n"
          ]
        }
      ],
      "source": [
        "dia = int(input(\"Qual o dia do mês: \"))\n",
        "if (dia>=1 and dia <= 31):\n",
        "    if (dia >= 1 and dia <=7):\n",
        "      print(\"Luna nova\")\n",
        "    if (dia >= 8 and dia <=14):\n",
        "      print(\"Quarto Crescente\")\n",
        "    if (dia >= 15 and dia <=21):\n",
        "      print(\"Lua cheia\")\n",
        "    if (dia >= 22 and dia <=29):\n",
        "      print(\"Quarto Minguante\")\n",
        "    else:\n",
        "      print(\"Início de novo ciclo lunar\")\n",
        "else:\n",
        "    print(\"Data inválida\")"
      ]
    },
    {
      "cell_type": "markdown",
      "source": [
        "2)\tCrie um programa que simule a entrada de um jogador em uma batalha de RPG. O usuário deverá informar:\n",
        "\n",
        "•\tSua classe: \"mago\", \"guerreiro\" ou \"arqueiro\" (deve dar erro se as entradas forem diferentes dessas.\n",
        "\n",
        "•\tSua energia (valor de 0 a 100)\n",
        "\n",
        "Regras de entrada:\n",
        "•\tMagos: precisam ter energia > 60\n",
        "\n",
        "•\tGuerreiros: energia > 40\n",
        "\n",
        "•\tArqueiros: energia > 50\n",
        "\n",
        "Se puder entrar na batalha, o programa deve calcular um dano base diferente para cada classe:\n",
        "\n",
        "•\tMago: dano = energia × 1.5\n",
        "\n",
        "•\tGuerreiro: dano = energia × 2\n",
        "\n",
        "•\tArqueiro: dano = energia × 1.2\n",
        "\n",
        "O programa deve exibir:\n",
        "\n",
        "•\tSe o jogador pode ou não entrar\n",
        "\n",
        "•\tE, se puder, mostrar seu dano base calculado\n"
      ],
      "metadata": {
        "id": "Mpuzgk4sF5pZ"
      }
    },
    {
      "cell_type": "code",
      "source": [
        "energia = int(input(\"Digite sua energia: \"))\n",
        "if (energia>=0 and energia<=100):\n",
        "  classe = input(\"Digite sua classe:\")\n",
        "  if classe == \"Mago\":\n",
        "    energia = energia*1.5\n",
        "    if energia>60:\n",
        "      print(\"pode entrar no jogo como Mago  \")\n",
        "    else:\n",
        "      print(\"Não pode entrar no jogo\")\n",
        "  elif classe == \"Guerreiro\":\n",
        "    energia = energia*2\n",
        "    if energia>40:\n",
        "      print(\"pode entrar no jogo como Guerreiro\")\n",
        "    else:\n",
        "      print(\"Não pode entrar no jogo\")\n",
        "  elif classe == \"Arqueiro\":\n",
        "    energia = energia*1.2\n",
        "    if energia>50:\n",
        "      print(\"pode entrar no jogo como Arqueiro\")\n",
        "    else:\n",
        "      print(\"Não pode entrar no jogo\")\n",
        "else:\n",
        "  print(\"energia inválida\")\n"
      ],
      "metadata": {
        "colab": {
          "base_uri": "https://localhost:8080/"
        },
        "id": "U8Z7qwNsGDgR",
        "outputId": "c9150b38-a262-4a98-e756-c7ce4180876b"
      },
      "execution_count": 37,
      "outputs": [
        {
          "output_type": "stream",
          "name": "stdout",
          "text": [
            "Digite sua energia: 55\n",
            "Digite sua classe:Mago\n",
            "pode entrar no jogo como Mago  \n"
          ]
        }
      ]
    },
    {
      "cell_type": "markdown",
      "source": [
        "Descrição do Algoritmo:\n",
        "1. Início\n",
        "•\tSolicita-se a renda familiar mensal (em reais).\n",
        "\n",
        "2. Validação da Renda\n",
        "\n",
        "•\tSe a renda familiar for menor que 0, exibir:\n",
        "➤ \"Renda inválida\"\n",
        "\n",
        "•\tSe a renda familiar for maior que R$ 5.000, exibir:\n",
        "\n",
        "➤ \"Não participa da bolsa. Só participam candidatos com renda menor ou igual a R$ 5.000.\"\n",
        "\n",
        "3. Tipo de Escola\n",
        "\n",
        "•\tSolicitar o tipo de escola do candidato: \"pública\" ou \"particular\".\n",
        "\n",
        "•\tSe for outro valor, exibir:\n",
        "\n",
        "➤ \"Tipo de escola inválido\"\n",
        "\n",
        "➤ Encerrar o programa.\n",
        "\n",
        "4. Notas\n",
        "\n",
        "•\tSolicitar as três últimas notas anuais nas disciplinas:\n",
        "\n",
        "o\tMatemática\n",
        "\n",
        "o\tPortuguês\n",
        "\n",
        "o\tConhecimentos Gerais\n",
        "\n",
        "•\tPara cada nota, validar se está entre 1 e 10:\n",
        "\n",
        "o\tSe alguma estiver fora desse intervalo, exibir erro específico:\n",
        "\n",
        "➤ \"Nota inválida. Reinicie o preenchimento.\"\n",
        "\n",
        "➤ Encerrar o programa.\n",
        "\n",
        "•\tCalcular a média simples das três notas.\n",
        "\n",
        "Observação: Essa média poderá ser superior a 10 após os bônus.\n",
        "\n",
        "\n",
        "Processamento por Tipo de Escola e Média\n",
        "\n",
        "Se a escola for pública:\n",
        "\n",
        "Média ≥ 8:\n",
        "\n",
        "•\tAumentar a média em 20%;\n",
        "\n",
        "•\tSe a renda < R$ 3.000, aplicar mais 15% sobre o novo valor da média.\n",
        "\n",
        "Média ≥ 6 e < 8:\n",
        "\n",
        "•\tAumentar a média em 10%;\n",
        "\n",
        "•\tSe a renda < R$ 3.000, aplicar mais 5% sobre o novo valor da média.\n",
        "\n",
        "Média < 6:\n",
        "\n",
        "•\tExibir:\n",
        "\n",
        "➤ \"Não concorre à bolsa por nota baixa.\"\n",
        "\n",
        "Se a escola for particular:\n",
        "\n",
        "Média ≥ 8:\n",
        "\n",
        "•\tAumentar a média em 5%;\n",
        "\n",
        "•\tSe a renda < R$ 3.000, aplicar mais 15% sobre o novo valor da média.\n",
        "\n",
        "Média ≥ 6 e < 8:\n",
        "\n",
        "•\tAumentar a média em 2,5%;\n",
        "\n",
        "•\tSe a renda < R$ 3.000, aplicar mais 2% sobre o novo valor da média.\n",
        "\n",
        "Média < 6:\n",
        "\n",
        "•\tExibir:\n",
        "\n",
        "➤ \"Não concorre à bolsa por nota baixa.\"\n",
        "\n"
      ],
      "metadata": {
        "id": "f8gbTdQsM1vX"
      }
    },
    {
      "cell_type": "code",
      "source": [
        "renda = float(input(\"Digite sua Renda em R$: \"))\n",
        "\n",
        "if renda <0:\n",
        "  print(\"Renda inválida\")\n",
        "  if renda >5.000:\n",
        "    print(\"Não participa da bolsa.Só participa candidatos com renda menor ou igual a R$:5.000\")\n",
        "\n",
        "escola = input(\"Informe se veio de escola publica ou particular: \")\n",
        "if escola == \"publica\":\n",
        "   matematica = int(input(\"Informe sua nota de matemática:\"))\n",
        "   if matematica<0 and matematica>10:\n",
        "    print(\"Nota inválida, reinicie o procedimento\")\n",
        "   portugues = int(input(\"informe sua nota de portugues\"))\n",
        "   if portugues<0 and portugues>10:\n",
        "    print(\"Nota invalida. Reinicie o procedimento\")\n",
        "    conhecimentosgerais = int(input(\"Informe sua nota de conhecimentos gerais:\"))\n",
        "    if conhecimentosgerais<0 and conhecimentosgerais>10:\n",
        "      print(\"Nota invalida. Reinicie o procedimento \")\n",
        "\n",
        "    media = (matematica+portugues+conhecimentosgerais)/3\n",
        "    if media>=8:\n",
        "    media = (media*20)/100\n",
        "\n",
        "\n",
        "\n",
        "\n",
        "\n",
        "\n",
        "\n",
        ""
      ],
      "metadata": {
        "colab": {
          "base_uri": "https://localhost:8080/"
        },
        "id": "WEv6m13WNmGH",
        "outputId": "fb393cdf-7ae8-4b7d-e8c6-ed1944c8ee61"
      },
      "execution_count": 96,
      "outputs": [
        {
          "output_type": "stream",
          "name": "stdout",
          "text": [
            "Digite sua Renda em R$: 500\n",
            "Informe se veio de escola publica ou particular: publica\n",
            "Participa da bolsa\n"
          ]
        }
      ]
    }
  ]
}