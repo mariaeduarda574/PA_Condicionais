{
  "nbformat": 4,
  "nbformat_minor": 0,
  "metadata": {
    "colab": {
      "provenance": [],
      "authorship_tag": "ABX9TyPe/20RcxgIXYuOiZb6VMWU",
      "include_colab_link": true
    },
    "kernelspec": {
      "name": "python3",
      "display_name": "Python 3"
    },
    "language_info": {
      "name": "python"
    }
  },
  "cells": [
    {
      "cell_type": "markdown",
      "metadata": {
        "id": "view-in-github",
        "colab_type": "text"
      },
      "source": [
        "<a href=\"https://colab.research.google.com/github/mariaeduarda574/PA_Condicionais/blob/main/Exerc%C3%ADcios_Condicionais_Aninhadas.ipynb\" target=\"_parent\"><img src=\"https://colab.research.google.com/assets/colab-badge.svg\" alt=\"Open In Colab\"/></a>"
      ]
    },
    {
      "cell_type": "markdown",
      "source": [
        "1-Faça um programa que solicite ao usuário três valores (lados de um triangulo), verifique se é um triangulo e informe se ele é isóceles, equilatero ou escaleno."
      ],
      "metadata": {
        "id": "1-dX59LN_noU"
      }
    },
    {
      "cell_type": "code",
      "source": [
        "l1 = int(input(\"Digite o primeiro lado do triângulo \"))\n",
        "l2 = int(input(\"Digite o segundo lado do triângulo \"))\n",
        "l3 = int(input(\"Digite o terceiro lado do triângulo \"))"
      ],
      "metadata": {
        "colab": {
          "base_uri": "https://localhost:8080/"
        },
        "id": "1g5-8jI-AcE1",
        "outputId": "4a89dcd0-f0f4-485c-d3e4-65a136e681a4"
      },
      "execution_count": null,
      "outputs": [
        {
          "name": "stdout",
          "output_type": "stream",
          "text": [
            "Digite o primeiro lado do triângulo 50\n",
            "Digite o segundo lado do triângulo 3000\n",
            "Digite o terceiro lado do triângulo 20\n"
          ]
        }
      ]
    },
    {
      "cell_type": "code",
      "source": [
        "if (l1 +l2 > l3) and (l2 + l3 > l1) and(l1 + l3 > l2):\n",
        "  print(\"É um triângulo\")\n",
        "  if (l1==l2 ) and (l2==l3 ) and (l3== l1 ):\n",
        "    print(\"é um triangulo equilátero\")\n",
        "  elif (l1 != l2) and (l1 != l3)and (l2 != l3):\n",
        "    print(\"É um triangulo escaleno\")\n",
        "  elif (l1 == l2) or (l1 == l3) or (l2 == l3):\n",
        "    print(\"É um triangulo isóceles\")\n",
        "else:\n",
        "  print(\"Não é um triângulo\")"
      ],
      "metadata": {
        "colab": {
          "base_uri": "https://localhost:8080/"
        },
        "id": "aXVsiplB_nXV",
        "outputId": "5ce2b591-02ef-4942-8d7f-3c2ea6ec8320"
      },
      "execution_count": null,
      "outputs": [
        {
          "output_type": "stream",
          "name": "stdout",
          "text": [
            "Não é um triângulo\n"
          ]
        }
      ]
    },
    {
      "cell_type": "markdown",
      "source": [
        "2-Peça para o usuário digitar um valor informe se ele é par ou impar\n",
        "\n"
      ],
      "metadata": {
        "id": "Vhza7BnBE13T"
      }
    },
    {
      "cell_type": "code",
      "source": [
        "numero = int(input(\"Digite um numero para ver se é par ou impar: \"))\n"
      ],
      "metadata": {
        "colab": {
          "base_uri": "https://localhost:8080/"
        },
        "id": "diOxLzc7E5W7",
        "outputId": "52e8e395-9436-4e11-fc97-1cd495cf3196"
      },
      "execution_count": null,
      "outputs": [
        {
          "name": "stdout",
          "output_type": "stream",
          "text": [
            "Digite um numero para ver se é par ou impar: 8\n"
          ]
        }
      ]
    },
    {
      "cell_type": "code",
      "source": [
        "if  (numero%2 == 0):\n",
        "  print(\"O número é par \")\n",
        "else:\n",
        "  print(\"O número impar\")\n"
      ],
      "metadata": {
        "colab": {
          "base_uri": "https://localhost:8080/"
        },
        "id": "-Wzxc-_1FNUj",
        "outputId": "e5194122-2da9-4f43-9766-6f28fedff527"
      },
      "execution_count": null,
      "outputs": [
        {
          "output_type": "stream",
          "name": "stdout",
          "text": [
            "O número é par \n"
          ]
        }
      ]
    },
    {
      "cell_type": "markdown",
      "source": [
        "3-Faça um programa que solicite peso e altura, informe seu IMC. Ao final informe se ele está, abaixo do peso,peso ideal ou acima do peso. fórmula do IMC: (peso/altura^2), siga a tabela abaixo:I"
      ],
      "metadata": {
        "id": "BMpkIjyBFy5u"
      }
    },
    {
      "cell_type": "code",
      "source": [
        "alt= float(input(\"Digite sua altura \"))\n",
        "peso = float(input(\"Digite o seu peso \"))\n",
        "imc = peso / (alt)**2\n"
      ],
      "metadata": {
        "colab": {
          "base_uri": "https://localhost:8080/"
        },
        "id": "Jnh0sCrXF6A0",
        "outputId": "78d42f57-e7ab-4561-e586-31b9406c3a10"
      },
      "execution_count": null,
      "outputs": [
        {
          "name": "stdout",
          "output_type": "stream",
          "text": [
            "Digite sua altura 1.65\n",
            "Digite o seu peso 2000000\n"
          ]
        }
      ]
    },
    {
      "cell_type": "code",
      "source": [
        "if (imc> 18.5 and imc<= 24.9):\n",
        "    print(\"Seu peso está normal\")\n",
        "elif (imc>= 25 and imc<=29.9):\n",
        "  print(\"Está com sobrepeso\")\n",
        "elif (imc>=30 and imc<=34.9):\n",
        "   print(\"Está com obesidade grau 1\")\n",
        "elif (imc>=35 and imc<=39.9):\n",
        "  print(\"Está com obesidade grau 2\")\n",
        "elif(imc>=40):\n",
        "  print(\"Está com obesidade grau 3\")\n",
        "else:\n",
        "  print(\"Esta abaixo do pesso\")\n"
      ],
      "metadata": {
        "colab": {
          "base_uri": "https://localhost:8080/"
        },
        "id": "WxtYmGqWF8Ls",
        "outputId": "5b86d079-0015-4c0b-f8e8-3c3e9680f64a"
      },
      "execution_count": null,
      "outputs": [
        {
          "output_type": "stream",
          "name": "stdout",
          "text": [
            "Está com obesidade grau 3\n"
          ]
        }
      ]
    },
    {
      "cell_type": "markdown",
      "source": [
        "4. Caixa Eletrônico com Login e Operações Bancárias\n",
        "\n",
        "Crie um programa que simule um caixa eletrônico. O programa deve:\n",
        "\n",
        "Solicitar ao usuário nome de usuário e senha para acessar a conta bancária (use valores fictícios para usuário e senha, por exemplo, \"cliente\" e \"1234\")."
      ],
      "metadata": {
        "id": "houLECEGzKL7"
      }
    },
    {
      "cell_type": "code",
      "source": [
        "usuario = input(\"Digite o nome do usuario\")\n",
        "senha = input(\"Digite sua senha\")\n",
        "\n",
        "if usuario ==\"cliente\":\n",
        "  if senha ==\"1234\":\n",
        "    print(\"Acesso permitido.\")\n",
        "  else:\n",
        "    print(\"Senha incorreta.\")\n",
        "else:\n",
        "  print(\"Usuario incorreto.\")\n",
        "\n"
      ],
      "metadata": {
        "colab": {
          "base_uri": "https://localhost:8080/"
        },
        "id": "SvGKPKF8zMwJ",
        "outputId": "81c404dc-d1bf-47f1-b453-424eb301217f"
      },
      "execution_count": null,
      "outputs": [
        {
          "output_type": "stream",
          "name": "stdout",
          "text": [
            "Digite o nome do usuariocliente\n",
            "Digite sua senha1234\n",
            "Acesso permitido.\n"
          ]
        }
      ]
    },
    {
      "cell_type": "markdown",
      "source": [
        "5. Exercício – Simulador de Saque e Depósito com Limite"
      ],
      "metadata": {
        "id": "EzyD4Wh84IBb"
      }
    },
    {
      "cell_type": "code",
      "source": [
        "usuario = input(\"Digite seu Úsuario. \")\n",
        "senha = input(\"Digite sua senha. \")\n",
        "\n",
        "saldo = -50\n",
        "limite = 3000\n",
        "saldolimite = saldo+limite\n",
        "\n",
        "if usuario == \"cliente\":\n",
        "  if senha == \"1234\":\n",
        "    print(\"acesso permitido.\")\n",
        "\n",
        "\n",
        "\n",
        "    opcao=int(input(\"oque deseja realizar? \\n 1: realizar saque; \\n 2: realizar deposito; \\n 3: ver saldo. \\n\"))\n",
        "    if opcao==1:\n",
        "\n",
        "      valorsaque=float(input(\"qual valor deseja sacar? \\n\"))\n",
        "\n",
        "      if valorsaque<=saldolimite:\n",
        "\n",
        "        print(\"seu saldo foi altorizado\")\n",
        "\n",
        "        saldo = saldo - valorsaque\n",
        "\n",
        "        print(f\"seu saldo atual é de: R${saldo}\")\n",
        "\n",
        "      else:\n",
        "\n",
        "        print(\"seu saque foi negado\")\n",
        "\n",
        "    elif opcao==2:\n",
        "\n",
        "        valordeposito=float(input(\"qual valor deseja depositar? \"))\n",
        "\n",
        "        saldo = saldo+valordeposito\n",
        "\n",
        "        print(f\"agora seu saldo é de {saldo}\")\n",
        "\n",
        "    elif opcao==3:\n",
        "\n",
        "            print(f\"seu saldo atual é de {saldo}\")\n",
        "\n",
        "    else:\n",
        "\n",
        "        print(\"digite uma opçao valida\")\n",
        "\n",
        "\n",
        "\n",
        "  else:\n",
        "    print(\"Senha incorreta, tente novamente.\")\n",
        "else:\n",
        "  print(\"Usuario incorreto, tente novamente.\")\n",
        "\n",
        "\n"
      ],
      "metadata": {
        "colab": {
          "base_uri": "https://localhost:8080/"
        },
        "id": "pauLNEAB4I9L",
        "outputId": "ff30dab0-04a2-41dd-8200-cb7e8e335f7b"
      },
      "execution_count": 4,
      "outputs": [
        {
          "output_type": "stream",
          "name": "stdout",
          "text": [
            "Digite seu Úsuario. cliente\n",
            "Digite sua senha. 1234\n",
            "acesso permitido.\n",
            "oque deseja realizar? \n",
            " 1: realizar saque; \n",
            " 2: realizar deposito; \n",
            " 3: ver saldo. \n",
            "2\n",
            "qual valor deseja depositar? 150\n",
            "agora seu saldo é de 100.0\n"
          ]
        }
      ]
    },
    {
      "cell_type": "markdown",
      "source": [
        "6. Faça um programa que solicite altura e idade do usuário, informe se ele pode ou nao competir."
      ],
      "metadata": {
        "id": "FvXKE_srAjh-"
      }
    },
    {
      "cell_type": "code",
      "source": [
        "altura= float(input(\"Digite sua altura \"))\n",
        "idade = float(input(\"Digite a sua idade \"))\n",
        "\n",
        "if altura >= 1.75:\n",
        "  if idade>= 18:\n",
        "    print(\"Você esta autorizado a competir\")\n",
        "  else:\n",
        "    print(\"sua idade esta abaixo da idade minima solicitada\")\n",
        "else:\n",
        "  print(\"Sua altura esta abaixo da altura minima solicitada \")"
      ],
      "metadata": {
        "colab": {
          "base_uri": "https://localhost:8080/"
        },
        "id": "pK_JyeGfAmqU",
        "outputId": "4eefe1e4-2b27-4301-832d-f12b9478f4bf"
      },
      "execution_count": null,
      "outputs": [
        {
          "output_type": "stream",
          "name": "stdout",
          "text": [
            "Digite sua altura 1.75\n",
            "Digite a sua idade 17\n",
            "sua idade esta abaixo da idade minima solicitada\n"
          ]
        }
      ]
    },
    {
      "cell_type": "markdown",
      "source": [
        "7. Faça um programa que solicite o peso do lutador de Boxe. Informe em que categoria de boxe o usuário está, segundo os critérios abaixos:\n",
        "\n",
        "PESO CATEGORIA\n",
        "![image.png](data:image/png;base64,iVBORw0KGgoAAAANSUhEUgAAAS4AAAGECAIAAAAHpVqcAAAgAElEQVR4Ae1d7ZmjvA69bU1D0850s81MMe99JFvSkSwDyZAAQfmxsWV9HvkASWD2f//VqxAoBE6AwP9OkEOlUAgUAv8VFWsTFAKnQKCoeIo2VBKFQFGx9kAhcAoEioqnaEMlUQgUFWsPFAKnQKCoeIo2VBKFQFGx9kAhcAoEioqnaEMlUQgUFWsPFAKnQKCoeIo2VBKFQFGx9kAhcAoEioqnaEMlUQgUFWsPFAKnQCBQ8ffn63/w+v4nSYaF/339/PYlt2Li//77962ezI/4q/fHEQCkEef//msLJgNFbUHvWFwyI3HDFijO+ujdmLaX/+9/sE/+kwCm/TgEn2yRUFF5wz3oM8JYFwwQhj6RMw9FTn4KfwPtqRE2gzb1jx4liYlfPz/fCcZkJF1oUSd97GxW3d+f73asRQ/QR3IjLU32AFpZtfM8TefGoyUqtv609uQtTLrAWGKnSJC35sawP1p6BBTteYf/EsZCDl0dcc/7OGtQDKv+3IKbcGzV00zaOZESzPJEtduO/0ZFbuG4A9LeDPvktpg/XvgIqPmgNTpcZjojJUTb7Gk06vH66FJ4hCtkHJqb+ZPIaOqzuPlsiYqIMQGIL7iU6QsqabsCpvNe3xz8zeVnW7sbyw5PuTjapX2cscN8S6bi0LkJPMzbbb5m0STGXd8TKhrjAGNDMkWKWkSvRkBpmKmOElur0SoCc/iwL+MeH+1QX8OCIVnwi3o/motELXSgzmggaibEuLmN6d50lFDRn886LgjlDCrSya+VCvwZZtvktLXhuGhGHtiBAYOAL2OHBmvjxHG/DvXe+1egnAesyDWr2NL7EBf0s2W0ve14TypyB7hTsRVxflu4ny2cAEy4yBzqpzF5Q6KNuJMFarSE2A+IhV7RXudIrcSl6vV62b8k2N8h3LOofJbdnlSkBvT94noL8s8C743VtM2s27f9mEFCT9DAgTDt5zX1AvmTpvkSKuJ36O1cB/3VyKtprCpAIvcdPkJFPKy1PrQNonJtDuEJa1nv7wv5s5UDoJ00yhhz6cnnZ6Er3DZoGfoHWoLY+khCM2UVnoJy2xUsXc3T8r/xKFDxxkhU6YXAoQgUFQ+Fv4IXAoJAUVGQqPdC4FAEioqHwl/BCwFBoKgoSNR7IXAoAkXFQ+Gv4IWAIFBUFCTqvRA4FIGi4qHwV/BCQBAoKgoS9V4IHIpAUfFQ+Ct4ISAIFBUFiXovBA5FoKh4KPwVvBAQBIqKgkS9FwKHIlBUPBT+Cl4ICAJFRUGi3guBQxEoKh4KfwUvBASBoqIgUe+FwKEIFBUPhb+CFwKCQFFRkKj3QuBQBIqKh8JfwQsBQaCoKEjUeyFwKAJFxUPhr+CFgCBQVBQk6r0QOBSBouKh8FfwQkAQKCoKEvVeCByKQFHxUPgreCEgCAQq5n9ofe3P7jcr+zPu4nz2/qj+zE+Xkzv7q/ELyjvHXYj07FLLUP/ng+2QPhNwM27POC+bRxEIVOzm4/+1sLjw6BbP9Z/eGZsMqST+H+uT/0jpUdBep0+lKP8oZZvtH3QTbvuHLY85ArtQMXf9qPTpnbHB8N9329PTY8yjyb5I31HR/z9O+0fcgNv+QcvjDIG/UpHa2V96NOf//uv7Hx/U//f9r6n0K8hUH4TiDK44mx9egBDt/xhL1NGZ0ycIrkxFw8FfjZvcn0NB7nAAOfyHUfg/f73yVDzbiCX/KxU7gtRe6Dd3++vnt9GisdHtn6DPXkjZKZH09+dL/ZKRKKADMOSAYuAmLVE066mf6o1SlvTtf44NxxDEAWp3heyMm/Ndk5cg8Doq0o6SjSLvWkJGiUFJtWWg/0+fV7UZjXQnhw3MTrK44v0M71SAveS4w2dzmyis8nUaLKVF/B231G0Jd0Xg9FT0m7OfFT3laNZ2Y2Sa18u4uSuYf3c2JNxckji8jH62aDL3P82SZVvy7mm2Ebe/V1Ye1hA4ORXxWgzODbaJqD6bRSrG+cU+K2rzrEIVjQNSkmuCvXEbo5VkbwROREX32ajXiVuKxv0ojqosRrlsR1QS2EgZr2BFfpZ3olOWH9JsmisUR0M5RzJAfQJyFosSTyQwKE1j1cLuCAQqcsvxUqi3cJD3Hk7k1ExqLC2TB3nnAbq3DcOVte3BCmNg/lWwi+EC7OvnVz8LkZPRh3ykcoHV0e6Q/sUhASWMCH481JI+VOuwBO2/4BZyqOkLEQhUfGGkcl0IFAILCBQVF8CppULgfQgUFd+HdUUqBBYQKCougFNLhcD7ECgqvg/rilQILCBQVFwAp5YKgfchUFR8H9YVqRBYQGCBiu7XugUXF1mS56Qukm6leTcEZlTUH+UVEPjR2P8Ibb8yy+/OahMH4EN/bxdn5mb2Izd4G9ODxcmQg0s003korpm9cAQorSL6ijSeAfcVedzMZ07FoRkowDHeXEbyDSwCgM0TjYQlxI21LWiW4G51OGb4aNzVEH9W4CODQPHf78/Pvz+7fNTBc+A+GqX0AwIZFcdW4I51zzf4i9gtJIL4pK6bLshXuDimCPYLw0W7B9NfCPP00mJ+T3t90PAUSTyY8weoJ1RMOhFIoxpOTtIH/hgLq2dMxDPtDGHNQO8vVe72NPQCWBfYFxpG58dTcZ4drXz/0xtspagu7pXAgZFqwZcY+Jt0HfzOxPQphLxMf5JPhLTm2xFIqAgNVT+4S1tvuFeqyrL2tL61S62zAVlYv1EDY6Ecx2rNgcEPGfcMVAcN+Yb0PMUtcZ2r/SeQfXDOdcqFu1VGI6tG2+GMnXSvp/sn+bjANXkIgZGK1mfnqGPPzyn9Expxl2kGD2rYznD2YTLbdC3Mqo+WJEd2us4tKblVyqFZ/oZ0+iMjg3ZUe/Hcpe9iMS6anur5Eh3pmrlXcC43PP8ZrTVuw2vMJwSo6QMIbKYi+tSO0EBoSAq6gNrJmFoMpzLVYH/Zgmr0ATloL90ObQUyyIOk0s1xYx47zymPvHxKO5RKsb14oKJf5mRJBK8WzevRrMkBTTVuWXiLnWG4p7tnqGgN4r7aDtnan3zHsbN8Iw69IV1SHTyRQF+WmTkYc3wkrvl5zWioR8KMafOKFwcq/v58RTi9f9UnN6ZqM1JHEG3uA0uW9f4HBEYqzi7hehDqBrQHekvdgRV9uhd7yU6soZY4G9tusIV8ZLvFG+rmys3G61NvPrN6n5zzMRT1xwySD0B2iJu8WRqEKRTQrvYVUNcHOQ313MwTiQtK4XT8Pnw+OFJCxfA5oBXfGkRNksYIKG0L8JkoLPWVIMWGig/9ZlBPaGMc1aUBudZd13JrYSAb9qVKzdzZ+W8TJXRI14V9ywRL0PRJmGZm2vyXZ8XA+tXr6gum3v5Wuui3ppPupr+KUFTcfytkVGyf+bRJ+wd9mUfaaJh3oH1cflke5bgQeBiBnIruyudhn8cZJNSzc0kR8bjGVOR1BGZUbBdveIZZ93UGjXBhBtd0dTv4GfpTOUwRWKDi1KYWCoFCYHcEioq7Q1oOC4FnECgqPoNa2RQCuyNQVNwd0nJYCDyDwAIV09+In4lxDpv62uYcfagsJgjMqOi/+adZfMmXk7AmokksEoN2+BUfv/tc/ebWp7cQD5Y49IYUweTdQ8bAUgzTaTYNVLObKk4XXFtCY6ZGzy4807xnY13ILqfiCli2bKNwB8wGCGijyfZBP/5WmtyR089VEilZachk/XBROxwJKG22eliS45uYPVMFIaP2W48AzwQim+ea92y0y9hlVFyDyjjkOrj9wYyGDoYxl7TmZxmWaJutz2TP2s387Syni+jv706Kf9/+P57ZOZZz5xtJM2OmU9xjcvIm7FHiMz4SKq4ghX0KnFmx9Pl5ZfbaTgDkdO1UgMZsahZtapfT3hUa+nxOMKPk+E5SOkERE93/kUW4tBeUBNXqWa1VAivrtGqRBQI2VXdp3HD/rip7OYr9fcZWwkN5Soaf+J5QcfnrGkLOcETaNExtbQaXtjaqyoJrYO5Fs+Cg4Ih8dHvVcS5IuiGAs3nXpOfGXzAxE2n7tuKgLt7TUDJlh8s0Z1ikTDfJa3GokDPxj45RTgaigy73+isB6PMm45GKM5AbINgalnCf+WD99aNP928Cjy3dduHeUoS0y+i0JbnjU/zo/LAxVUWA/Pv++v7+/vltlGoShKRVj3+JILRFHEklYVnE9k4G9jKO6aGAVSEuG5ieecKRWoOh+6xIctkBZLiaJ3r/tPFjVPSQDlg8iqTp20g6stxm3gm8d7CTvpl5srl0KOUQgW5dHVC23//8986NMh4fj9+wpbsbLopU9SXooQKUTuLwsri2aDL5CkmN2pJ3T7MmD2lznZISpHGP4UNUJOQQ9gBRBDYsj1O348Cx9Wq0aRLRGDIigb6yrvpdMfN/jFzx0PA9WylX5XEQoA/TgZrRfMaB1bjkiJTk3Ob7ofV4PzZ7OM8h8Q8SjFRkaIEXVmwEzlbkw7rf+9wj7ZLTpgm2jcbSTl7QyWDGAusmB9F0tfm5Wds3qj1TOko+Zi91cpUeXZdkbM2A50rN5D9zvxaXk4DgNJRQnEOfgJzFosQTCQxKrribTBIqusOcwZAD1YCl85AAahbcR7/QRe285S3MkzcxfzAiP9LyRt0e3wUYP3Q6O/B3juGcinLy0RN+Lz6Wa0ToqLCBIjUtk/z4dqiqDyGusFvWCXd96n+KUTfhe+HH8tSsPnCQUdGfsK5UNPVbNgvlHQ4fcflKpVWun45ATkX/AeA6GCTUs4N9EfE6jbxjpjMqtlMKnmGugY67cHJXunU7+DU6eNssF6h4W0yq8ELgAASKigeAXiELgRGBouKISUkKgQMQKCoeAHqFLARGBBaoOP7KNZqfUFJfz5ywKZXSOgIzKvpv/mkWX/CLsC1v+MoVvuMEF5NMfRoTpSDmbNZdB6vTTA3M8Q6FdyfJvTIow5Sz6emakuU4NK/pZqpmdN9RTsUBRA+QW6b+bGBg80CW0oothi6ST2JhRlYaZkHvfEsny5y5p0i2GfaaJShwiA7N4+rUndOtyX8ZFQcIA07UAOSTjIPa6pT8TPvYrNdSmcV41m7m701y3qvPwvmCHP/2VwUu2oQX4LjJZULFFQTddqHJ01vnQSpyYONum9plsyc1rXrJJjiOVpqdZjzO9im+ydmKkcBemBSA6I5kDVaS0tU7ud32VwXkwQDpiwQgV/2FOYZ7a8NSktIHixIqWqOzuglTwZdv8mxPDDeYbSEzDTLaDmsGGo1bCdpk3BunOs4/Sa/YWS6U0HTJ+2qsQ1276fKkmwE+7k7cbtCQpAlg6vCjCa1//yN7+jMfpKmRZ/5RnrjHZYmglXJuruwho08WjFRMAAQAPJYMnnbzESib5SruLZlPe1of8JwMCWbkI+FgYCkhhCziRRd0wCsNRX7qn3FXT76b4kXfJermvyoAgTqTA9NDQAkgEcOyiO/x/hgVPdTjfapboSQ9ZfAS0BTQb8quDZGGpFglly7FOt0aF99oQ0MlkJ2bEiqyGlt24Ppb54R3tFKyEloH3Xzm33un2TIVoYvaNCtzJbtPW36IioScxzZgqS1bgon76N1M1aWbQ2QS6Cvrnt8V0wCnXrCqfTUGs5cLWszQHGFvsFK9xRHFbq6BRN7fvdzPWGXcL3CEaQ+1Zc0MYT5zOlJx3seAIwOCcNvOaVjRWvahJ9B5CVhzz850e42bJHgxw7BwoSngydW3TcpDgZAmunehP6DvC3YGfmmcjSiTOTVh5h9SpmE8cvPHVs1XvuIRARiPuXy+JKHiBOcpUA3zBHful//+wXQXT2mKu7SeBc0YN6Q6ka0phs5OhOd/74hJWXrkcV808l9K7UveQPY0F+qXxBVJndoSKHMquoRc6zWse1pfpVKaNQy2hCS5lNPnrmVUHJ5+P1351FnsG7UT5nH5dPnvlhBVuplZu0UtR69AIKfi2Z/iT6hnO/I+RNSfG16xM8rnmxGYUXH8dvTNia2Eg8sauuaBM8Otbgevs+LKPrnQ8gIVL1RFpVoIXB6BouLlW1gFfAYCRcXP6GNVcXkEioqXb2EV8BkILFBx/FXp0iXf6uucS3fqpsnPqOh/EaBZfLUvLd0KfI+5AKd9+Rl+CtQI6358egvBYIlTXXcNFm8fMjSWYphyOh1wU7IkB1CabqZqRjU6CwI5FYem+nTzZdo4q20npc5A3iiJwRY/eQY+y3E2izhqHiRh7imIbQbHK75vTOAbUxxA4XrV3WhQkjMhkFFxaGlIeMKVNTPy4i96yRHutBZni58tOiFrnj5rl/l6gayemn8BqFdxmVBxZbvScnakXTFjQByJ2dHoaosfd8t686OU7m71alcXOINN3o9qHiXHd5jStUI9NX9UGw6Km1DRn7liXuNebtdR41340RJPisyX739t73XFB/wYFdkRsA3IPmZKgVzIJMUjRT23emr+yCYcFnukYr6DJUHY6iKSdzLMTpeyLlTkZ/Ibe1JebPDTqfhpT/cLHPXUPOyZ2wwfoyLtFTgFRZQWeNpU24nPPEwMJmIIx3Tla9DwvQ+Y5snmUnB94FCvR3RA2X7/4yOPXnG3AYPYl3vKSWkABymF6akvEQ7swzGhH6IiddJ4NCasO2hcahLaLHDi9DvJjFb99LMi/9kjnxGlqK9AUw4wi2nRjxuNdfds6S0D3sv9jMsI3AvTgZrHlV6Rs7+DmnS0ARUbGeCjZbdfyJF/asI9CcnLCVsGPyEOTS1H9qJhx80cjM0wLJxhOmYv6XKVy1gRbKEB42mQlcTPFqDPAMtNchjPirNnFdPG8RaRs5C0WKDri0EMJrYCQjxtiqfhnfSRf8p452jcms5u8Hq0YE7Femr+6N68Pn5GRXfuen0KO0aITAuHj7i8Y+RyVQj8EYGcirMz4x+Dvdw8oZ59NC0ivhz/CvAHBGZUlF8e+O/Y/sH/u02JjPCyS2D6igJm786r4hUCKwgsUHHFspYLgUJgRwSKijuCWa4KgecRKCo+j11ZFgI7IlBU3BHMclUIPI/AAhXHX7meD3MCy/ra5gRNqBTmCMyomH7zT8L20p/X+88eTbrpG0r8jtPcmGt2ZQt56ml6uapKOcSmFNXkiIFDYg2HFyfIvTLIwnQavJVgdlPF2UIIFKZs1WHKgtCSA+7P+czy3FWeU3Eopt9K7AqkPFARx7McnQ5OaJzBOnGEphOVRExWj0RJXLxYdLIMmQOKWJsNe2CEhKtQs3F9VbIWl9eniQyb48/5rCa8h0JGxaGU5J7+Fps0gUCEEEyT/LwGzIKnxNSJshSdwmTyrN3E3d5iSm8Fwb1DLvr7218VWHS9uPi3uCdv8qzyhIpZJSRLSAZcogCZZQhMKv3qgYz1yDYJEKx1ipHYpffUL6OTa100VG/nGRAmVorl5eGxT/FNzlZcLPbIpIpya1H7P70TcCxeG6l3crvtrwqQSX9hLuEe2rC0Q9x+tpDYiuEu+cT8XjNPqGiNtpAs4yd1fQeRTq1qaLuZ+5HsEWwIQJbuRe/BSM92EJN8d7+0BCvdA0kxcHB8+FSBcEn6rK1DXbvp8qSbAQ78KJQA0Q3alCaykBVO64239Gc+SFMjz/x3N7hMIkzNT3aKiwGTsnD58XyyHPeXjVRMCmngaddGXDs/iatLrZWesA6hk2pPF6D6luSnPcVvBTIG+riJnsy6ghKCGwOc1QUdsAW01PVu7XlFUibvm/+qgBYQtr44kvWwLGJ5F/XNccnANp6fsdMQUAJIwLAs4ve+b6OiHQ1bdpPUJ2KoyGvQzBA0Na9lchsRlu0FG5GWwTTpyLaLaAtz7IiLbPX5vWNE83Ktni07QP2t4xwMlgvUODro5nP/3SG0gSRh6o4gtKavVq2G08FKXF8VzcK2CgmEqctnGZIXrm6nIl7WKUQus1igW+RJAClMRZ/EGE3k8C6WFNKhTgJ9BZpqCpkcnJ9maNVRvZa1we/lggpvLQeLluQNVJwPLI6sd3MNJPL4HrZCmA7UDOYPx/X5+Bn7DgmE6Vo+Ib0XTUcq5n3E8qiQodEkhN1C6ZJNEDotN9H62Gpwr8ttYOl49bGJU8OwcMIp4MxVNi7yUPCniVKU9PsE9H1hzsAvjbMRTTKn3kz9dyeQCktcq6GuMSZJHo8LLjmU4CP+Sag4yVc8IgBj0T/iPaHiDOdWI5ELiGJCKcyq4H55CASFfuIyG/MzGJhDG8mWYEmzbb56TD0xQqqk6+zM3VlGIXtM3pb4L6X2JZPGg54cCDsS4ooMDPWVuueUsAOt9+/zoTUJzGcerzyN/nhcPe5zQLPfJ59porsuZFRs1/aK4a7xXuuMkMe8iaQwj8uvTeYd3qmizcx6R0IV42kEcir2g8zlmpxQz3bq5xGxtelyXXp6s3624YyK6RX7BaDAC13/OfUjbwevs+IF9uTGFBeouNFDqRUChcAOCBQVdwCxXBQCf0egqPh3DMtDIbADAkXFHUAsF4XA3xFYoKL9OvP3MCfw8JFf25wA10phJwRmVEy/+Sdhe8GPde7XXi+f5Zj6we8+V92k6c3CdTlHPfc3/4yBpRim0/oanmY3VZwthEBhyla9Z1mQoRl/zmeW50fLcyoO4Pa7ZDKKUN8y+Qy2VN8FdJPczQaVxJCs7HfGROFoEXNAM2yzDdhyXWr2RBFrcXl9msjQjD/n80QJ1zfJqDhA24mYHRGpSZl8hsxE34v9LHOVpZjpRdmzdtHPi+Z/e3r9+aT+FvfkoD4Py3stEypmyJIsY9xMPitiqk8L/eRKRJwegbtjUhcdNtVZuPcyukLDWZKHySk5vsOUoK6n5g/rwzGBEypmX9ewLH+K/+snkc+KmflhfeIgvTLOB4fKKOahkNKfvVXH2bbt7kSnmfTc+Aumemr+NG15UyIjFbMdTDI7v/CM+TKTz5Kf6/MKU4oJCeRKfZF6PwY44rpLW1Jyq+SqWZ7zf+WRhDc/va7YuLrHW1PDspr1wcNxPYh+xj5DQAkggcOyiO/9vo2K8QkyhTKcQVU+A3Wm7w1ptkxG6m16CgVHyQ45ORUVHR30PWzl9qojPlA2QR+mfPyRgxKt6asJNZwOVuL25d5lmoV2hQTC1OUz2yq3k2+nIp5gtGUBY5XPcJzoh2aGaeJMNMif2wUk0JfsPnRAlpkcdY4aj/D1bKXcaWIjrq7IsBzdPBzX5+Nn7DwEDNPhUBETuuV8pGJ+CYdwE7Cy/2dyApPW4ke/iT651M3jJnlXzA0HkWzi2Xs0NsNx7XBJTgkqjqtcOIJke93hqQhlRT4eF7YAd0v3Q3f/t3yyHD9fllBx1veGOZHL93UmT6nYr57aicv5MTdGyin+jlHNsm1U3rN6Woypckou6jTCEQtzStiBrdfWi4jlQsGA51rFj8fV4ywHNPt98jkC++NjZlSsp/iP70tlcDsEcir2g97CFdE5gaIzAZwC+BitRdAMFs9ZQWV1WwRmVGwXktfbuXBZRpdyykM+08Pstg2vws+KwAIVz5py5VUIfCICRcVP7GrVdEEEiooXbFql/IkIFBU/satV0wURWKCi/Vp0qbrqaf1LtauSFQRmVEy/+bcfcPWrVRP57yvFf3x3+u6Xh6jJ8zSNVNOEHOK6X5Y6hBRnK+/No4sekN+M0h7hcipmDAi/2Y3BSWGVAeR5Vcl8Z4nY6mzEu/mBKDM/75efL/Oi4rt2QUbFbP9v4FlmNpRBSg+QZJPPIUi7Q+H4M0qS2LKIyn0EnmVvu6wWFXeBcYOThIrZ9t/AoMxsTGCDIzRCpzSGS9o2tdtNPfPQEB2efMx3KPhKOGMqx45gRo8mZytGwnTa3YsNHnDYHYkFrEyQsVhRQXxYT8g5pBluoBz1o8d7zxMqZuCzbPK0vkK83le4i5g2yboBNZe1uMugT0H7vlMd10mS4sZ0iyeecKEEjkveV2Md6tpNlyfdDPDhR5IEum7QpjSRhRkkFstpTPyjuDFxJR/n9N6TkYpZf1oDpWs8czuFMZyIp/hS29Z2QkuGjwEuoGs5KblVCtksz/m0/hQSXWBsgI++RKOHl9szYqYRsCADA8vBqMHdwHuSJS8FrDEh8D7VF4f1/t82KlqPG2QAMmI4EaOKG6/r884ZLr38c+qwEcB7LgWF8w+5+HaMoaEdbWxjezmf/0iNLdvFqfzbj6PBYB0EiwW6c/8cumUKlgv64PXmw+1UhK0QmSkYAvgiWnrnBtkGy1RJhTYRkVZOyqxHAn1lPsgyk2dRziqzqn01hrOXC1oLlwTeYEPhFguUNRDIZCgR0HBJX+xu/z5SMe8jgmk7xME3iMkGLrKccj9yO3oFBZpaWHam6tjnxAwN0+VLCAFQrr4dWRqqHQma6AGH9PsE9H2pzsAv5bMc6al/ctL/Yp3kQqJF/Tzw7aQJFWe4UafbSxnRVEWse6KjyPjr7mhCcxIWcuTJhUZrtrghJXI4ZV6WiR0xKUsrl83MC/yXUoGKoh0A9b7EFUljn3LouxQbRpHEkW+9ickMG6XO83x0uQYZFcOX0CcEidqqe6L3HuZx+YQV7JTSw8zaKW652R+BnIpnv6Kgw26gnh3r70PE1qaHTnL776DyuBMCMyq2Uw1s953i7eUmXDfBdrzV7eB1VtxrQx3vZ4GKxydXGRQC90GgqHifXlelp0agqHjq9lRy90GgqHifXlelp0ZggYr5j7unrmYpuVt9nbMERK2dE4EZFdNfBEjYXv6r1SaHbzGXaoXvPsHCXM/vzwGvaXqwng05BITMdI6XfdgB8HhAL5NBTsVsp4ff8qTCJv6xe65kIX0nx8KGiUO+V0N0UifuhriZRia/AhmLilnn7iDLqDgjYsIPueojWiXLywhOuJiFj4626EQbmj9rl/l6jayo+Bpcz+81oWK2XUm2RLUdqZiFH3BEJRrDzTdtajdmjtfSXjL4PlYwpyJh7D8ecKnYFndwG/WPrayiLyOQUDHbDCybPMVPAZ6hots3ehMxslgKVW4AAB+GSURBVGqeulKRdyNwCxJRHeeGpLh73eIJJhn6AWAADsr1SrgA+icosFKYIDBSMdvBvOH1rk+e+e2MnZ9E8uLm0TvpGol7b6sXmp/4dH9ORS8lhPrhh4aCIjRhqj8gWYKzILCNinTWg1PPeBKEXbClMlJ3Dr3RurfGZLpck33YPYApbFhwn0tB4eBhQLplY+XKNaqiR0sNA7Bc0D+4vAo/RWA7FXHTQ9ebZ2DANJQs8D5BYsuCvg/udUUG5INcUFznigT6CjRlY9u64utc72ntUm6WqhSEhkv6mY+SnQCBkYr5t4zY3GH/Tz4rkk08b7HMkWcAIXE/6Fg63iHux8GIBGaYLh8vzCvgKrMjCyVcT80f37YdMkio2J7PHvtuJxyjEm8RPQvRwNaaH38JaT7UiAM5P2PooVDHqOa0WTlHPh1y4uwGr2cQRIQUT1+ZiilnBEBrWNBXnRqcCIGMiq23rtknyngplcg02qNQR1xeclVrhcB7Ecip2E4f+OnwvVk9Gy2hnhVRRHwW1rJ7BwIzKrbLHjijvCOZHWKE6zu41pUbg3YIUi4Kgf0RWKDi/sHKYyFQCMwQKCrOkCl5IfBWBIqKb4W7ghUCMwSKijNkSl4IvBWBBSrmPza/Nbs9g9XXNnuiWb52R2BGxfjNP83hBV+t4neWIJ5mCp70+02QaRBdzDzF9DKdKOMgi16jxSFzh8UWQF+ZpUvG363xyrC39J1TcdzpJEm2sVN0kxxNVMGx156viN66hmjiO1llVaDOseOzZUj5aNv5oKuzY4H6wOgZFbN97npiOFB3rDl+Zlo6Cl4m+hOxevnDDWxZaej34DGlB3genE3H2fp7uvSOB2jHDBIqptuVhNYTS4C70y6jiEErF1SBZNNIaSgL6u8l5RQscpvqda4tsH0aEj0fOyaAQsaatsFvn+KpHP6fpXq9piN3ptICdKUZ9LtW3UpaeFfvazSz1nCuHNf8h3xsQe+UZQNMM417R2FCRWs0AMJd6P3G1pKK9GQDwKQq/WkuZSaxSBplsmbvqsVOQJ8C9DxUx8yG47xbOsWECyKgHZokNYF1qGu3JZ50LcCB+yMQdYM2pYks5MWThsbF5k38N/fdJ+r//nylfvKwt5SOVFztDyGsHWTsGXonnmPZmkV77euHnsIPWwFbPHfSn7D4xKf4W9EMJvCRUNOtTNzqsHm5LZgG+SMtMDBPq2hbt1rHfntPZv59Pl7L2jmTm8YdR09QsZ0G28bwvaRZoNYipt7a75lFQ3n+CjZr1weXsAHBWS4FhfMMmQcN59kW93I+/5EBW8o1THsHKhqnV2sN/kV/6t/rI+WCySPbRKJ++PszVGRUuZ80AlDDdA06oE1T3U5liTRYkEBf2Z4jy0y+luwR61adz9q2uJcLKngaDHl7g7A4TifqGihaeH3L0yohC5NH+zvPRyou9JGBIrSVf7zzZWe7ST/HjeetjnZU7p85xddKT2wvuHTWm2yGKxFOsAz7l6ts2PBQGkAThYz0+wT0fSHOwC9ls5n6zL/XN8pBKXzqlvyzmHeVJVRslzfa4IYMM6efbvzSfIX7pbsj+vFe2lUvnGGXG0KuVbll0Pz1mHpiVKXmz9kthzhiNWSPydsSf2Pal0xKFTtI/ZK4IqlTWy5zQT317/WNinjJ/PXzo591l6PfazWj4oO0OBFgtBNk01FaeDB+5KPoiUpaTsVv/WXdWj03AjkV6yn+c3dNsysqKhSXH8yoeNUP13i57C/ZPvJ28KLi5RmoBSxQUXVqUAgUAi9HoKj4cogrQCGwBYGi4haUSqcQeDkCRcWXQ1wBCoEtCCxQEX4V2uLp7Dof+bXN2UGv/LYjMKNi/IWO5vBKf2Fu6xt+QG7OnGLuf1pHTG+qCAscwgWFxZMMAwwnz/YkoH1IGjkVx51OktWNMZqNKLVf3X/sHq2mssm/edsSybRlRFbrVYj2Ee8OBv5hZhX0I9KsmC9AIKNits/dHpnkQVtnZefIVeKgusU/hM1ShOXp8Fm7qcOdFzwMNFtDdOcEyt1hCCRUTLer3yNZug/tmz2pyIHtfrc2tYtpvBHOPbqXFXG0zMPsIeWTJNdlJTV9XbGFftdfh2HlAHl01RWfEEiomH5d4za463jHkRQyeQ5zSkWlz7ofjcZ5gT44Vh2XAknPuzNddlSLlAZ14Z21XL4ooX49Ne+6foXJSMV8B0Mt1HHpvopxq6hwPlhST/0HVy3Jz3uKv1FLjknCw/iEn7WIRnZgSQ+iV72FMXT886dPULE98GAb4JlHHpaomPgf+mBb1uXhTG3DonkuRY0jx55amomVKyztx0Kvj1QMJsZqdVqDcyHwDBW5y0gBItZjvV6k4uB/hIxUKOIQmQT6whzFB1lmclk/9n2SnZQ7JOf1jYoeF5MPDkpwGgRGKj70FD/XMeMV7RP/dISWPTORZ//XiG17k4Oo+uqmM0PN5UwDSi87UHCVyYLXt+qRijR+8Eh5Jkhuk0tCxSee4lcqONx4//hv47tIz1u6R3i/dHGy5ZzfeEXcbJtVDBAyo+Ugiq4PnVN+k/J9Zb0Ir29UrKfmD23jU8EzKrZPXGfesbNSI9Pw5BAJPPNR8kLgEARyKtZT/Ic0o4LeGYEZFa/6FThe6PrPqXKjz527XbWfGIEFKp4460qtEPg4BIqKH9fSKuiaCBQVr9m3yvrjECgqflxLq6BrIrBARfiV6pq1+azraxuPR81OhsCMivEXOv8Ds/1MPpPPynT6yY/ZbX31N01SW1UKObDrJGRQO3rqEHq0xpckDxmt5gO654f6JWg97TSnIgHqUSdJhu1MviEh+t0huOS4XzF24mtMMFEaRGQVQw5KhwpOlyEnZJj9/nz/yP+xuARU0tsl9VrLn1dMb0KllgTeMH4z+QZwydTzvV0Sb7kwHm03BDz//TZUVgrztur213qWUs/a7V/BdTwmZ8V0m5NwXyoOYaR9j1KR96+Ruk3tLlfP9iHquVpFGFgplhulbfAbQk3OVlyx6bS7FxsMAEF3JBawYsFsJC0xCYzEh7+ToikkhhRZXpgmeLz3MKGiNRqgQSBxr8zkYBqH2kK3D/oe2XiXD2mzOccHR7AHVMclYHGc+DQTLoi2rNuuPmvrUNduujzpZoCDe5KsGzTEaALYDRgsrK/8lQAMT24xNT8Zgt5WMFJxAf+GElMp6eBMPsMW24NBbaPNLOVP1HzeU/xSMWMJfCR8jJuGkJcT6VpjdMAOAV0amqfIGAnf38FOEkqp66ORcXAc0ozLIexNp09QcQBaoQsNUPlsoPqul24yMeUdxZc7tkFZVV0KXeOXDLC9Jr5PI+Yi7YRnlRpCYY9L9QaPXBIKhYLBcq2QQFO0wPgUFsUIh2ZJpPsPUza2cpaTuM3qM1QcOtTRmsmnYEpnqVPjK3TXeaFQtE6WTs+5yrpNlpncuT/JxKrzWQtu7XBj1QgqvNUdLFqQd6TiyYC0ES0NbJmRpYrVDa1bXsNZMCyr2a0HIxUX+shIcXuSPo9ylriWOKh9O21pbKytyYhctxx82FVbMxRX530HgLjKtrd5KMcfmuiWhw0O+r4+Z+CX0hn5lGDAOUiNeWYqzQukwgJ2I4micRr0nsKEiu3aQ3DrsDCW/cyFSzM5mbVNY1vFRM0R+gH0V+kUf5RoOTRvPaaeY8Mxg5aDCCIfPgzZY6a29P3PEDIpVewA9UviiqRObb3m1BEIv35+5COqtFzh9zQWsSSzHvtOGhkV24fBK+JFGwTzDsffuHz9RlNFDzLr+kV/aAU5FfsZ7XJNTqhnO/XziBg/K37oHr1JWTMqph/GL4AJXjD7S7aPvB28zooX2JMbU1yg4kYPpVYIFAI7IFBU3AHEclEI/B2BouLfMSwPhcAOCBQVdwCxXBQCf0dggYr269Xfw5zAw0d+bXMCXCuFnRCYUTF+809zeOmPd06+4ccPpw8/ALffMnuEdT8xvS1ocOh111tcvVYHMFKcZxFB9wqlzcooefpfncabWRgmavlKr+l3hBWV6Q9h6D78OJh2ifRXt+lgyft2NcXB7J0CTtFgrKfm3wn+sbGys2K2z0m2sokzs6G4DX7Ge7wHL2v3yY4GXbIpx6n16xc2Hc6SNJ61S1yV6CAEEiqm23WdQqnZUNW6n0233WEwGsOlbpvaxbQ/eaLhkNzhgkVG0eLsCj4xRBxWDqKH110J5H/bJv26BhsbLg11i/hNn8O74EcMyN+aK2UU+wNt2JOqI475naRn3Zl5xpK2Zp0ABGWLun1aYIzU2qFRk/MgMJ4VF/ZDS5vannHl0Y6nftjJOldakp/2FD9Az+DQORAOM7prxoNloCI5Qu6FZXVUgxMh8AQV2xUkdlrqebTjgz4J0s0nEeS9MZa2asgDXMLGFrP0GylYPHjIVWFBwDmrmC9SA0OhbKohTPmjNfo9uM4KnyHwDBWHHSOOYeeIaOk9+OFp2GIzc9IlVdpzzoQE+sp2H1lm8lmkt8oDIlReq87XqWJNLnAvTAdqql0NzoPASMW1byenjPHbxZ4Tnmx878fPVvEh9bZJveG4SYMrMwwLJ5kSiHZw0XIQW6/S8iYZ4sw6IkDjk5RZaYwIJFRsj2JLH7sJ97afbmCJiSBnIZCzVV904okfFI9RxrQdo5pxC+MSwl3dfDi70e0pJL6Efs4HYT01f4o27Z5ERsVNPyfsnskeDiPTiKRw/RqX9whZPgqBfRDIqVhP8e+DbnkpBDYjMKNiPcW/GcJSLAT2QGCBinu4Lx+FQCGwDYGi4jacSqsQeDECRcUXA1zuC4FtCBQVt+FUWoXAixFYoKL+vvziFN7kvp7ifxPQFeY5BGZUjD/BwU/M9BM8/Fint9W4n/LzbIIX/jEfzNoyCHIvT95Jyt63OJ9GfcuCw8jj/Jb4GIRvnjDIwhQ1a/xnBHIq0nbwu4Ak1hMI235F/wk3XoHCwhDDPOYHLRcChCWyyqsIiodNT5Yhc08RazO/Lw5D6vMCZ1TM9jnJEirKVR91KVlexguMHvWTpbgcrK0+a7fF9w46lN7jOO4QeOKC2vL93TP694233E0sSvw0AgkV0+1KwgWuAau2ppJuu61+MEd2ZCfxNpX7YrNr6RMf16l+K8WgpKIMfvsU3+RsFa/2+XGMBgMU3B2JBaxYMB2pdwpNTPy1yO1O5Q6zpdaf0BL43QK5kxcEllzGJ940kVsMEioC3AYBwpjsFYLTwW6WkxE5hH50ra1+1JrzAj/gQHVcBiR9LFNn/vIJF0Qb1iXps7YOde2my5NuBji4J8m6QUOMJoDdUButf/8je/qP5EhTImMo9/jA1CUl5GvicL8/X1ooqSylM+T3WYKRilMwpXAGNUCGnRe9xfeJwUQ8uGpJftpT/FYmYwx7l+rVLauEGP6AnjAFNMgntJSG5mkFbon67/vr+/v751fjyYIkbH7Yf9gcpGUaYpO8a/rJ2ueLnqBihusmpA1NaljSr8yzGeGIO84XO7ZBeR0SyYPkUvR9mjEX2eqjoVVqW9bLdcOzpVwLtvcOdzBYrlXj6KCbA8rswXm14NZip+CCmjbnaSZO6w6TZ6jI6NnGIJhib5ahI+0c861+KAXyMHgigb58ji2n+aZYzvmIVavOZ63M4POdVSmo4Gkw5O0dhcU4tTiy0s1jm+Kc1UlXjh+amTjq71YhCcZ4Qf2jpyMVF/rISDDCkUjzXmg3DMZUuS0vLJm9u+Ty6aw2c7YnnPeTTGCfcpWNczyUIxlNlIoAHuj7YpyBXxpnI5pkLodADQx5Oh+QD28qSRqU0JTGiQpof/YwoWKDTRvc6mec+ukGlrjlehaiAZC0L4I6+UL0FdtFP6plA9kSLGm5tTDREaRDus7O3J1lFLLH5G2JvkIRmE1K2Duk/ZK4IqlTWyrd4ogWmXdXsCPEee+u7geQd+yHJcjy7j+VZFSc0EXaceJ32CmcZaB9XD5xJRtTo4o2M2ujz1I7BoGciu30cb0mJ9SzIj6PiPqN5jF7p6LuisCMilf9EA2XTeGSTW7o2RW+o53VWfHoDuwXf4GK+wUpT4VAIbCGQFFxDaFaLwTegkBR8S0wV5BCYA2BouIaQrVeCLwFgQUqjr8qvSWjVwX5yK9tXgVW+X0/AjMqxm/+aQ4v/PHWvrRE6aQU5wd+EXNyd6NA6iimlyoFIYeAkGH5DFOG0lIM0zNkWDm8DIGciuNOJ4ntEUuHdktn4KNbnUzV5cy/RXKjMUG3PJk8muHEzevEzD0Fpc02HN9el1B5fh8CGRWzfT6hir+IBV5uqMCFmfifuXG2M6VE/qxd4uoVonpq/hWoXsRnQsV0u+ZUGU5s8UbIBRR8mNz/1ByNaayn5n6f0ORa+uQ3oTYQ+ofaemp+2v3PXEio6M90vey23/sO12smVeXl739tL60g1a67kD2ze4XnjigQZ8GBNR/3tJbqODebUnQW75v03JiL9dT8+3A/R6SRivkOhmyZSm33MxX5Wfo2f2ifk7J+Lsr9g9QPW5Kf9hS/wFdPzftu32P2BBXh1NNOcHZSches6wDO1Gdy88g05nO0fvHTFsG00fXXjHiUS4PSQVO9yNBBJydUpUVo4YaFNaLbJXWYNsNnJoluid6JwDNU5G7yTrAR5zzfAHlJuuP8cvDqF9uMVGgX0R51u4kE+tLdCi4ezRFMXz4c8ejZRirGOWeGsAk+MWWP1xgv6tf8fQiMVFx7vJY7rtsfeotbgQtgQXoNystgivV6/7gCY1JqOXj11c1lhuDtLMMxe0mXsNKL+QlwfFySo4+HRQtEU/apjVSVGhyEQELFR57i91+4yD7otfB2sB1E0i5q5y1U533RT2con8AiW5SXm22zcgHCV0M9/nl335yK/vl4qABx89cHHmsxAXzu/tT8ZGsdJs6oWE/xH9aOCnxfBHIq9tPXhtPTuZCjc4Qc/+UcrEW4M+m58q5sCoH/ZlSsp/hrcxQCb0VggYpvzaOCFQI3R6CoePMNUOWfBYGi4lk6UXncHIGi4s03QJV/FgQWqDj+ynWWpJ/Ko57ifwq2MnoXAjMqzr75bz8Rww8GfI+H3GqG8lkF8COz/s5AujN56meWXqrchRzAhVzSPmSNf7C3FMP0qJSmXW0ts3yfTXAvP8/GP4ddTsXZTmf5l9xzFu9emVlBpaiyZQymboi2bmFxQlZ6+9ii5kGL7d4Z2dttNiXCe3JcujZiPHcAdC8/70HkVVEyKk73eWsLNod2i+wceGJjli15NnW7aXImn/nhU+gze3Ra2jTSWxdO+BQ/dvutWNwuWELF2XYV2rnmkHK/wYXWV+ghLjrMGmkmn7ZDLfXKViNzRnLFPNyFioZT70ctUHL8/0TR4eokT/G7bhswgDIcW2kdVrgL2hhqcnupyGk7Pw0K/fSTW+Bh3VK76iihYg5+xya7C0cwdljmgJCqwNp61mYzee6ldZAt2Yl47DdN9zxoCVa6K6tj5vs4ec/tVE/x57tBMKK+ubaDwOEPcuZXaAwus28y1uOoeWKxBHQTyei67yMVrW6oCoWuOQwH40poJlsfnPCQDfjg+PVDT+FLT2byaN/mLZ96ir+dgwRDwGrY27CmQ9dJlfrBsk4M4+bUpE4b76V1Dx/qdnaUAG8H4Zx+kgGPnOVg5nO/1mwbFR2SOPFY0CzZFlNEvLWpzeSmwZ1iQmu72iKYjg0nlVxqno8cKbI66HsPquL8urjlSpP2MuydgivJtPvxEBnhNNtEU0nWkm8HIFOK1DMKQSmy5UqOwazFyQuIarlWmun5hZuoSAiMr6+fX0CbSg3TteojsKI/k8s6RCJV11SXaqAp25+5e+O279lGROJcK5Oz0KwTHq8xHkDch8s6QyIk0JfiP0tHww1+8jZFtThXf1ccjFRcJRQ2h5EXxN1ELjLCZwnFKCrLwkwu6+3deksjYyPm5i36zAzT5WOFY/aSrkOFJu7407MmufTCw6JloSn7zPyoNg3GnHAZQy5pczqSGzro4+iHN2GizzmLnCar+SfBTipKqMgwaE/HvENzGJ1+IBSQmhHjb7uDhabtdWfyMTxLZIuCz+avx9QDc2iVs5v4Pk4ckIWzf7+G62VBUYbbcNHnoBATEG57it8F0BjgxucUFyRu//QX+xLVlVu04HeItAUSMueyeOX3jIrt0v2KdVIDMW9qG8zj8pUbd8rcI8AB/1PmfJqkcirGb7BOk+5KIqH1tDPs2Br3yYqvWn4cgUX8H3d3L4sZFVc/JZwUJtoM8IJrnLod/B0tm+P/juiXjrFAxUvXVckXAhdDoKh4sYZVup+KQFHxUztbdV0MgaLixRpW6X4qAgtUHH/lujQI9bXNpdv3+cnPqDj75p9/H9Df6toMvrGE/9lhATsz0x/9TLTJBamr7UIkXOIQ8JUqrp1l7GCAH2Km+YEBlkZinE/ta+E0CORUpE5mO53l+BS/r2Nm5rTCb09ujSeksLaNNkUaXJPVquvB6p0CylBr5x8GdLaYRsTM+Vm0rMWzIJBRcbrP2yXr9MI17oesxg060/Dgb4sOqOvwWTt18OIB5WfkoxlMF2JHWL2fBcNaOg0CCRVn21XaPaHipn2zYYvMwjvIUIkD20m8Te2i2Z/d0dB5PMeE0ptRkfDvL1PpaUtvpIrmR6FwGCz5Eft6fz8CCRVzqtkmma+7jqe1sC0/8cubyhnoFnHS1I09PcK7DQxgT9ISrHRHVkfu+Vipy45qkQJ+f76Ufyjv6ULZLGFY5IyK+it+jq3+3tFHKqY7GIUpFeNeyFFtOwS2l+wWVGcl3Xe4YuOWz6c9xT95fMHK7qOxAxF+wscgHPWbo5l8CFiCNyCwjYquZ27SUmzMWHkenFSDbdxBveCJGOBguvKJ1TYcL4NpnlQuBdeHDim7UFHPxyoeryfGp+C9H0R92c+hxd88+CYq0v4eX3Jye+SZKmAKAY97BBoxEYMGbSiKT/4sD/9UX3bGbeedfLOD+8OGnkKWhq9zxCfgGp68Nf01PxaxRu9GYKSifQ6b5GKN7QpxH4hdPwC7jS8cIh2/L8RqJtZ1GpgbDqJsHHJzVs4wrpxiTtU4vHpWCBWN/fFn+1lxzc8pQLhpEgkVeZ+nG6JhFLY7dteDyCwZz028lcJVVldtp95sL3rPQEU9EzYr52jcsrSsvA0+zzCl/NLyoS58+h7E/bKlVef9QMfAAP2cofa755BRcXq+Oj1YtNGQaeEwEZdPX08leCMEcirWU/w32gJV6jkQmFFx/p3KOfKeZWFXv3zBBhd7dTv4DLOSnwKBBSqeIr9KohC4CQJFxZs0uso8OwJFxbN3qPK7CQJFxZs0uso8OwILVIRfo85exZb86mubLSiVzmEIzKg4+wmu/USMv93Zf44x/qKelQXfcer3m81r/5G6v+li5mSWXqYrMg6y6FU0j3sPQKxnCwaoTGKcP1/R0gG5Bf97nL38PF/lGSxzKhI2gW6cLMvDU/zhZ/TlosiBtG5uOAtvvtc1TNdGZKXhTXyiEeLDdwBuTJewFFypHOfnT/UVFf8E3wPGGRWn+7y1xTUn7oEHQk9vNt3gc5riSvxn7Vbc7rbsKUQzx7BpnAiZ9zM127Dgur1Bv1SeRSCh4my7SruxOX9qOTkcz72b9h/myAbmqE3tYtdHQMNnMXuhHaVnZzcuRacE1+ziXXojqTU/bE8mDoMlP2Jv79htk7b7lFs2mmBb1qA9V41tcVXU7+pK/LQC2oWBLwD9h9CQ3wWHCRVz8Ds24S4c1p08lb+GBrUGmtLVKc4ojb5UixsD+rAnVccZk/S8HXTZIUArT99D2VwtwyJn1Af8OKh4ku8G0YtxmTsdXoc/KmI+3REus6gX0Dprnlgs7XMTyei67yMVrW6oCoXQHAZDmfMINM1SQLVIQ09sCUctn3qKXzCJsBE+Bi50TAz4fSZHpWWdGNfNIQnvpXUPnzR3dhSeVKwCWQaPUoApYdZXHG+jokMSJzjujyvZDpjjQdAqg0Ft7BEs4pA7xdc1IZw0bfpo4uYQGO5t47jXLLBVzGXDhQDpQNls4v1gl5b9WDwZoa3I7D3GxUQoUk8zBKUKfAGDH1+ABIxquZZoX+x9ExUJgfFFYAZslvvWoeG++E70FfKWLgygkg+J7yxcqoGm7OXc3Ztl55EZYQ59CN+gmv6anwFo6rAD2GvEuLwhdKso/tIubwyzwU8ORFSLc/B4veFIRW7jAvq+OQgyAYOGtBb/1jfLUAkgewBYC+sdLm+c6akSkjh2SNXoBoZUEFoaO5wfOCuu+YGQfbiMaGzZTJu7lBVmUXzdEyC4dvGDxYyJX06SUDFcpw8lRbgZHj4SBoox/nDF37eMHjTb4ClgybVGawk0Pz2mxlClVoazGyo7XkD5CSAuG6gLn74HcS+5Fez9QMfAAP24WG5i3W0BzL9izIMONPhHsXz6U5uJuh5jfAGYESTUneDqhccZFesp/gs39NDUiUDID6INzg9N7uzBcyrGb7DOXoXkF1rPh2g9ycR9Ikb1vhsCi/jvFuVDHc2o2C4mr3dEg8sXuhhSHvKZHmYf2s7Dy5rjf3hqZ09ggYpnT73yKwQ+CYGi4id1s2q5MAJFxQs3r1L/JASKip/UzarlwggUFS/cvEr9kxAoKn5SN6uWCyNQVLxw8yr1T0KgqPhJ3axaLoxAUfHCzavUPwmBouIndbNquTACRcULN69S/yQEioqf1M2q5cIIFBUv3LxK/ZMQKCp+UjerlgsjUFS8cPMq9U9CoKj4Sd2sWi6MQFHxws2r1D8JgaLiJ3WzarkwAv8H+mMVrAX8lvMAAAAASUVORK5CYII=)"
      ],
      "metadata": {
        "id": "6jp7p4EEE7Jl"
      }
    },
    {
      "cell_type": "code",
      "source": [
        "peso = float(input(\"Digite o seu peso \"))\n",
        "\n",
        "if peso>= 46.27 and peso < 47.63:\n",
        "  print (\"Você esta na categoria Palha Ligeiro\")\n",
        "elif peso >= 47.63 and peso < 48.99:\n",
        "  print(\"Você esta na categoria Palha\")\n",
        "elif peso >= 48.99 and peso <50.35:\n",
        "  print(\"Você esta na categoria Mosca Ligeiro\")\n",
        "elif peso >= 50.35 and peso < 51.71:\n",
        "  print(\"Você esta na categoria Mosca\")\n",
        "elif peso >= 51.71 and peso <53.52:\n",
        "  print(\"Você esta na categoria Super Mosca\")\n",
        "elif peso >= 53.52 and peso <55.34:\n",
        "  print(\"Você esta na categoria Galo\")\n",
        "elif peso >=55.34 and peso <57.15:\n",
        "  print(\"Você esta na categoria Super Galo\")\n",
        "elif peso >= 57.15 and peso <58.97:\n",
        "  print(\"Você esta na categoria Pena\")\n",
        "elif peso >= 58.97 and peso <61.23:\n",
        "  print(\"Você esta na categoria Super Pena\")\n",
        "elif peso >= 61.23 and peso <63.5:\n",
        "  print(\"Você esta na categoria Leve\")\n",
        "elif peso >= 63.5 and peso <66.68:\n",
        "  print(\"Você esta na categoria Super Leve\")\n",
        "elif peso >= 66.68 and peso <69.85:\n",
        "  print(\"Você esta na categoria Meio-Médio\")\n",
        "elif peso >= 69.85 and peso <73.03:\n",
        "  print(\"Você esta na categoria Super Meio-Médio\")\n",
        "elif peso >= 73.03 and peso <76.2:\n",
        "  print(\"Você esta na categoria Médio\")\n",
        "elif peso >= 76.2 and peso <79.38:\n",
        "  print(\"Você esta na categoria Super Médio\")\n",
        "elif peso >= 79.38 and peso <90.72:\n",
        "  print(\"Você esta na categoria Meio Pesado\")\n",
        "elif peso >= 90.72 and peso <101.6:\n",
        "  print(\"Você esta na categoria Cruzador\")\n",
        "elif peso >= 101.6:\n",
        "  print(\"Você esta na categoria Ilimitado.\")\n",
        "else:\n",
        "  print(\"Você esta fora do limite de peso das categorias.\")\n",
        "\n",
        "\n"
      ],
      "metadata": {
        "colab": {
          "base_uri": "https://localhost:8080/"
        },
        "id": "C1b3fuahFL-r",
        "outputId": "b3192209-9c0d-4d31-d07c-a11297f3896c"
      },
      "execution_count": null,
      "outputs": [
        {
          "output_type": "stream",
          "name": "stdout",
          "text": [
            "Digite o seu peso 79.72\n",
            "Você esta na categoria Meio Pesado\n"
          ]
        }
      ]
    },
    {
      "cell_type": "markdown",
      "source": [
        "#8.Faça um programa que solicite\n",
        "\n",
        "O salário do usuário;\n",
        "\n",
        "Informe quanto esse usuário irá pagar de imposto de Renda seguindo a tabela abaixo:\n",
        "\n",
        "![image.png](data:image/png;base64,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)\n",
        "\n"
      ],
      "metadata": {
        "id": "p6hk2nBieTR9"
      }
    },
    {
      "cell_type": "code",
      "source": [
        "salario = float(input(\"Informe sua renda. R$ \"))\n",
        "\n",
        "if salario <=1903.38:\n",
        "  print(\"Isento de taxa.\")\n",
        "elif salario >=1903.99 and salario<=2826.65:\n",
        "  taxa = (salario/100)*7.5\n",
        "  print(f\"Você terá que pagar 7,5% de taxa sobre o valor que recebe, então terá que pagar R${taxa}\")\n",
        "elif salario>=2826.66 and salario<=3751.05:\n",
        "  taxa = (salario/100)*15\n",
        "  print(f\"Você terá que pagar 15% de taxa sobre o valor que recebe, então terá que pagar R${taxa}\")\n",
        "elif salario>=3751.06 and salario<=4664.68:\n",
        "  taxa=(salario/100)*22.5\n",
        "  print(f\"Você terá que pagar 22,5% de taxa sobre o valor que recebe, então terá que pagar R${taxa}\")\n",
        "else:\n",
        "  taxa = (salario/100)*27.5\n",
        "  print(f\"Você terá que pagar 27,5% de taxa sobre o valor que recebe, então tera que pagar R${taxa}\")"
      ],
      "metadata": {
        "colab": {
          "base_uri": "https://localhost:8080/"
        },
        "id": "MYfQoDmkeb0n",
        "outputId": "c5e9c84b-d5fb-47d6-91c6-af8c204181f2"
      },
      "execution_count": 8,
      "outputs": [
        {
          "output_type": "stream",
          "name": "stdout",
          "text": [
            "Digite o seu salário mensal: R$ 3700\n",
            "Sua taxa de imposto de renda será de 15%.\n"
          ]
        }
      ]
    },
    {
      "cell_type": "markdown",
      "source": [
        "9.Uma empresa dará aumento para seus funcionários, faça um programa que faça esses cálculos, solicite o salário do funcionário e informe o aumento que o mesmo terá, seguindo os seguintes critérios:\n",
        "\n",
        "![image.png](data:image/png;base64,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)"
      ],
      "metadata": {
        "id": "u2Ac_4e5ouKn"
      }
    },
    {
      "cell_type": "code",
      "source": [
        "salariofuncionario = float(input(\"Informe salario do funcionario. R$\"))\n",
        "\n",
        "if salariofuncionario>1500 and salariofuncionario<=3000:\n",
        "  aumento = (salariofuncionario/100)*15+salariofuncionario\n",
        "  print(f\"O funcionario receberá um aumento de 15%, seu novo salario será de R${aumento}\")\n",
        "elif salariofuncionario > 3000:\n",
        "  aumento = (salariofuncionario/100)*10+salariofuncionario\n",
        "  print(f\"O funcionario receberá um aumento de 10%, seu novo salario será de R${aumento}\")\n",
        "else:\n",
        "  aumento = (salariofuncionario/100)*20+salariofuncionario\n",
        "  print(f\"O funcionario receberá um aumento de 20%, seu novo salario será de R${aumento}\")"
      ],
      "metadata": {
        "colab": {
          "base_uri": "https://localhost:8080/"
        },
        "id": "VVNSuz38o5sX",
        "outputId": "04ab74c8-de02-462e-f566-1053c6e8c3e5"
      },
      "execution_count": 21,
      "outputs": [
        {
          "output_type": "stream",
          "name": "stdout",
          "text": [
            "Informe salario do funcionario. R$3000\n",
            "O funcionario receberá um aumento de 15%, seu novo salario será de R$3450.0\n"
          ]
        }
      ]
    },
    {
      "cell_type": "markdown",
      "source": [
        "10.Simulador de frete inteligente\n",
        "\n",
        "Peça o peso do pacote (em kg) e a distância (em km) de sua cidade até o local de entrega.Calcule o frete com base em regras:\n",
        "\n",
        "Até 2kg → R$5 por 100km\n",
        "\n",
        "De 2kg a 5kg → R$8 por 100km\n",
        "\n",
        "Acima de 5kg → R$10 por 100km\n",
        "\n",
        "Exemplo de saída:\n",
        "\n",
        "\"Para um pacote de 3kg viajando 350km, o valor do frete será R$28,00\""
      ],
      "metadata": {
        "id": "_8VHv7E9yyu5"
      }
    },
    {
      "cell_type": "code",
      "source": [
        "peso = float(input(\"Digite o peso do poduto (em kg). \"))\n",
        "distancia = float(input(\"Digite a distância (em km). \"))\n",
        "\n",
        "if peso <= 2:\n",
        "    valorkm = 5\n",
        "elif peso <= 5:\n",
        "    valorkm = 8\n",
        "else:\n",
        "    valorkm = 10\n",
        "\n",
        "frete = (distancia / 100) * valorkm\n",
        "print(f\"Para um pacote de {peso}kg viajando {distancia}km, o valor do frete será R${frete}\")"
      ],
      "metadata": {
        "colab": {
          "base_uri": "https://localhost:8080/"
        },
        "id": "1rXUhhMBy9dM",
        "outputId": "ba7e9ed8-46d5-4be5-edb8-e27464fc0b32"
      },
      "execution_count": 19,
      "outputs": [
        {
          "output_type": "stream",
          "name": "stdout",
          "text": [
            "Digite o peso do poduto (em kg). 3\n",
            "Digite a distância (em km). 350\n",
            "Para um pacote de 3.0kg viajando 350.0km, o valor do frete será R$28.0\n"
          ]
        }
      ]
    }
  ]
}